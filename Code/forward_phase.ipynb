{
 "cells": [
  {
   "cell_type": "code",
   "execution_count": 2,
   "id": "8ab22ff8",
   "metadata": {},
   "outputs": [
    {
     "name": "stderr",
     "output_type": "stream",
     "text": [
      "UsageError: Line magic function `%autoreload` not found.\n"
     ]
    }
   ],
   "source": [
    "import numpy as np\n",
    "from typing import Union, Callable\n",
    "import pytest\n",
    "import ipytest\n",
    "from copy import deepcopy\n",
    "\n",
    "from forward_propagation import (\n",
    "    forward_propagation, \n",
    "    create_weights, \n",
    "    vector_to_weights)\n",
    "\n",
    "from activation_functions import relu, sigmoid \n",
    "import test_functions\n",
    "from gradient_descent import gradient_descent\n",
    "\n",
    "#%load_ext autoreload\n",
    "%autoreload 2\n",
    "np.random.seed(42)"
   ]
  },
  {
   "cell_type": "markdown",
   "id": "9b255d05",
   "metadata": {},
   "source": [
    "## Multiple inputs "
   ]
  },
  {
   "cell_type": "code",
   "execution_count": 3,
   "id": "5b994a24",
   "metadata": {},
   "outputs": [
    {
     "data": {
      "text/plain": [
       "array([[0.99899323, 1.        , 0.99945816]])"
      ]
     },
     "execution_count": 3,
     "metadata": {},
     "output_type": "execute_result"
    }
   ],
   "source": [
    "inputs = np.array([[1,2,5,4]])\n",
    "weights = [\n",
    "        np.array(\n",
    "            [\n",
    "                [1,0.2,0.5,1,-1],\n",
    "                [2,1,3,5,0],\n",
    "                [0.2,0.1,0.6,0.78,1]\n",
    "            ]\n",
    "        )\n",
    "    ]\n",
    "activation = sigmoid\n",
    "forward_propagation(inputs,weights,activation)"
   ]
  },
  {
   "cell_type": "code",
   "execution_count": 4,
   "id": "5c54b102",
   "metadata": {},
   "outputs": [
    {
     "data": {
      "text/plain": [
       "array([[0.53469416, 0.94103299, 0.79062883]])"
      ]
     },
     "execution_count": 4,
     "metadata": {},
     "output_type": "execute_result"
    }
   ],
   "source": [
    "inputs = np.array([[1,0.2,0.15,0.024]])\n",
    "weights = [\n",
    "        np.array(\n",
    "            [\n",
    "                [1,0.2,0.5,1,-1],\n",
    "                [2,1,3,5,0],\n",
    "                [0.2,0.1,0.6,0.78,1]\n",
    "            ]\n",
    "        )\n",
    "    ]\n",
    "activation = sigmoid\n",
    "forward_propagation(inputs,weights,activation)"
   ]
  },
  {
   "cell_type": "code",
   "execution_count": 5,
   "id": "d9fc379e",
   "metadata": {},
   "outputs": [
    {
     "data": {
      "text/plain": [
       "array([[0.99899323, 1.        , 0.99945816],\n",
       "       [0.53469416, 0.94103299, 0.79062883]])"
      ]
     },
     "execution_count": 5,
     "metadata": {},
     "output_type": "execute_result"
    }
   ],
   "source": [
    "inputs = np.array([[1,2,5,4],[1,0.2,0.15,0.024]])\n",
    "weights = [\n",
    "        np.array(\n",
    "            [\n",
    "                [1,0.2,0.5,1,-1],\n",
    "                [2,1,3,5,0],\n",
    "                [0.2,0.1,0.6,0.78,1]\n",
    "            ]\n",
    "        )\n",
    "    ]\n",
    "activation = sigmoid\n",
    "forward_propagation(inputs,weights,activation)"
   ]
  },
  {
   "cell_type": "code",
   "execution_count": 6,
   "id": "ecb06e9b",
   "metadata": {},
   "outputs": [
    {
     "data": {
      "text/plain": [
       "array([[0.93695121, 0.99998324],\n",
       "       [0.89266103, 0.99991581]])"
      ]
     },
     "execution_count": 6,
     "metadata": {},
     "output_type": "execute_result"
    }
   ],
   "source": [
    "inputs = np.array([[1,2,5,4],[1,0.2,0.15,0.024]])\n",
    "weights = [\n",
    "        np.array(\n",
    "            [\n",
    "                [1,0.2,0.5,1,-1],\n",
    "                [2,1,3,5,0],\n",
    "                [0.2,0.1,0.6,0.78,1]\n",
    "            ]\n",
    "        ),\n",
    "    np.array(\n",
    "            [\n",
    "                [1,0.2,0.5,1],\n",
    "                [2,1,3,5]\n",
    "            ]\n",
    "        )\n",
    "    ]\n",
    "activation = sigmoid\n",
    "forward_propagation(inputs,weights,activation)"
   ]
  },
  {
   "cell_type": "markdown",
   "id": "679d29da",
   "metadata": {},
   "source": [
    "### Creating a data set \n",
    "Create a data set of points sampled randomly from a function."
   ]
  },
  {
   "cell_type": "code",
   "execution_count": 42,
   "id": "cf9f51d2",
   "metadata": {},
   "outputs": [],
   "source": [
    "# very easy function\n",
    "def linear_function(x):\n",
    "    d=len(x)\n",
    "    xstar=np.array(range(1,(d+1)))\n",
    "    xx=x.dot(xstar) + 3\n",
    "    return xx"
   ]
  },
  {
   "cell_type": "code",
   "execution_count": 43,
   "id": "889db089",
   "metadata": {},
   "outputs": [],
   "source": [
    "def simulate_data_target(fun: Callable,\n",
    "                       n_features: int,\n",
    "                       n_obs: int,\n",
    "                       LB: list[float] = -5,\n",
    "                       UB: list[float] = 5) -> dict:\n",
    "    \n",
    "    entry_data = np.random.uniform(low= [LB] * n_features,\n",
    "                                   high= [UB] * n_features,\n",
    "                                   size=(n_obs, n_features))\n",
    "    target = np.apply_along_axis(fun, 1, entry_data)\n",
    "    \n",
    "    return {\"data\": entry_data, \"target\": target}"
   ]
  },
  {
   "cell_type": "code",
   "execution_count": 44,
   "id": "2c01dc2b",
   "metadata": {},
   "outputs": [],
   "source": [
    "#used_function = test_functions.sphere\n",
    "used_function = linear_function\n",
    "simulated_data = simulate_data_target(fun = used_function,n_features = 2,n_obs=10)"
   ]
  },
  {
   "cell_type": "code",
   "execution_count": 45,
   "id": "589a39b5",
   "metadata": {},
   "outputs": [
    {
     "data": {
      "text/plain": [
       "{'data': array([[-3.4398136 , -3.4400548 ],\n",
       "        [-4.41916388,  3.66176146],\n",
       "        [ 1.01115012,  2.08072578],\n",
       "        [-4.79415506,  4.69909852],\n",
       "        [ 3.32442641, -2.87660889],\n",
       "        [-3.18175033, -3.1659549 ],\n",
       "        [-1.95757757,  0.24756432],\n",
       "        [-0.68054981, -2.0877086 ],\n",
       "        [ 1.11852895, -3.60506139],\n",
       "        [-2.07855351, -1.33638157]]),\n",
       " 'target': array([-7.31992319,  5.90435904,  8.17260167,  7.60404199,  0.57120862,\n",
       "        -6.51366013,  1.53755106, -1.85596701, -3.09159384, -1.75131665])}"
      ]
     },
     "execution_count": 45,
     "metadata": {},
     "output_type": "execute_result"
    }
   ],
   "source": [
    "simulated_data"
   ]
  },
  {
   "cell_type": "code",
   "execution_count": 46,
   "id": "7ac48f60",
   "metadata": {},
   "outputs": [
    {
     "data": {
      "text/plain": [
       "-10.3199232"
      ]
     },
     "execution_count": 46,
     "metadata": {},
     "output_type": "execute_result"
    }
   ],
   "source": [
    "-3.4398136 + 2*-3.4400548 "
   ]
  },
  {
   "cell_type": "markdown",
   "id": "0b987d83",
   "metadata": {},
   "source": [
    "### Neural Network weight and output"
   ]
  },
  {
   "cell_type": "code",
   "execution_count": 47,
   "id": "8703c282",
   "metadata": {},
   "outputs": [],
   "source": [
    "weights = create_weights([2,1])\n",
    "predicted_output = forward_propagation(simulated_data[\"data\"],weights,sigmoid)"
   ]
  },
  {
   "cell_type": "code",
   "execution_count": 48,
   "id": "13fac063",
   "metadata": {},
   "outputs": [
    {
     "data": {
      "text/plain": [
       "[array([[ 0.28677805, -0.07982693,  0.37394315]])]"
      ]
     },
     "execution_count": 48,
     "metadata": {},
     "output_type": "execute_result"
    }
   ],
   "source": [
    "weights"
   ]
  },
  {
   "cell_type": "code",
   "execution_count": 49,
   "id": "421dd46a",
   "metadata": {},
   "outputs": [
    {
     "data": {
      "text/plain": [
       "array([-7.31992319,  5.90435904,  8.17260167,  7.60404199,  0.57120862,\n",
       "       -6.51366013,  1.53755106, -1.85596701, -3.09159384, -1.75131665])"
      ]
     },
     "execution_count": 49,
     "metadata": {},
     "output_type": "execute_result"
    }
   ],
   "source": [
    "simulated_data[\"target\"]"
   ]
  },
  {
   "cell_type": "code",
   "execution_count": 50,
   "id": "3bc0c0c3",
   "metadata": {},
   "outputs": [
    {
     "data": {
      "text/plain": [
       "array([0.41631704, 0.23403188, 0.62194709, 0.20164737, 0.82591476,\n",
       "       0.42903619, 0.4483822 , 0.58550936, 0.72760274, 0.47116674])"
      ]
     },
     "execution_count": 50,
     "metadata": {},
     "output_type": "execute_result"
    }
   ],
   "source": [
    "predicted_output.reshape(-1,)"
   ]
  },
  {
   "cell_type": "code",
   "execution_count": 51,
   "id": "683c87bf",
   "metadata": {},
   "outputs": [
    {
     "data": {
      "text/plain": [
       "[array([[ 0.28677805, -0.07982693,  0.37394315]])]"
      ]
     },
     "execution_count": 51,
     "metadata": {},
     "output_type": "execute_result"
    }
   ],
   "source": [
    "vector_to_weights([0.28677805, -0.07982693,  0.37394315],[2,1])"
   ]
  },
  {
   "cell_type": "markdown",
   "id": "cd362d54",
   "metadata": {},
   "source": [
    "### Error function"
   ]
  },
  {
   "cell_type": "code",
   "execution_count": 52,
   "id": "19b6a890",
   "metadata": {},
   "outputs": [],
   "source": [
    "# mean squared error\n",
    "def cost_function_mse(y_predicted: np.ndarray,y_observed: np.ndarray):\n",
    "    error = np.mean((y_predicted - y_observed)**2)\n",
    "    return error"
   ]
  },
  {
   "cell_type": "code",
   "execution_count": 53,
   "id": "95b58391",
   "metadata": {},
   "outputs": [],
   "source": [
    "# entropy\n",
    "def cost_function_entropy(y_predicted: np.ndarray,y_observed: np.ndarray):\n",
    "\n",
    "    n = len(y_observed)\n",
    "    \n",
    "    term_A = np.multiply(np.log(y_predicted),y_observed)\n",
    "    term_B = np.multiply(1-y_observed,np.log(1-y_predicted))\n",
    "    \n",
    "    error = - (1/n)*(np.sum(term_A)+np.sum(term_B))\n",
    "\n",
    "    return(error)"
   ]
  },
  {
   "cell_type": "code",
   "execution_count": 54,
   "id": "d07edb6f",
   "metadata": {},
   "outputs": [],
   "source": [
    "def error_with_parameters(vector_weights: np.ndarray,\n",
    "                          activation_function: Callable,\n",
    "                          data: dict,\n",
    "                          cost_function: Callable) -> float:\n",
    "    \n",
    "    weights = vector_to_weights(vector_weights,used_network_structure)\n",
    "    predicted_output = forward_propagation(data[\"data\"],weights,activation_function)\n",
    "    predicted_output = predicted_output.reshape(-1,)\n",
    "    \n",
    "    error = cost_function(predicted_output,data[\"target\"]) + regularization * np.sum(np.abs(vector_weights))\n",
    "    \n",
    "    return error"
   ]
  },
  {
   "cell_type": "code",
   "execution_count": 55,
   "id": "4cb72512",
   "metadata": {},
   "outputs": [],
   "source": [
    "used_network_structure = [2,1] # 2 inputs features, 1 layer with 1 node\n",
    "used_activation = relu\n",
    "used_data = simulated_data\n",
    "used_cost_function = cost_function_mse\n",
    "\n",
    "def neural_network_cost(vector_weights):\n",
    "    \n",
    "    cost = error_with_parameters(vector_weights,\n",
    "                          activation_function = used_activation,\n",
    "                          data = used_data,\n",
    "                          cost_function = used_cost_function)\n",
    "    \n",
    "    return cost"
   ]
  },
  {
   "cell_type": "code",
   "execution_count": 59,
   "id": "19d1f667",
   "metadata": {},
   "outputs": [
    {
     "data": {
      "text/plain": [
       "0.7405481300000001"
      ]
     },
     "execution_count": 59,
     "metadata": {},
     "output_type": "execute_result"
    }
   ],
   "source": [
    "np.sum(np.abs(np.array([0.28677805, -0.07982693,  0.37394315])))"
   ]
  },
  {
   "cell_type": "code",
   "execution_count": 56,
   "id": "97898615",
   "metadata": {},
   "outputs": [
    {
     "data": {
      "text/plain": [
       "27.54414127554354"
      ]
     },
     "execution_count": 56,
     "metadata": {},
     "output_type": "execute_result"
    }
   ],
   "source": [
    "neural_network_cost(np.array([0.28677805, -0.07982693,  0.37394315]))"
   ]
  },
  {
   "cell_type": "code",
   "execution_count": 57,
   "id": "799beaa2",
   "metadata": {},
   "outputs": [
    {
     "data": {
      "text/plain": [
       "{'time_used': 1496,\n",
       " 'x_best': array([0.99999995, 1.99999991, 2.99999985]),\n",
       " 'f_best': 11.207871980599968,\n",
       " 'hist_f_best': [27.54414127554354,\n",
       "  20.14932482085556,\n",
       "  19.949697018510847,\n",
       "  14.1538146883292,\n",
       "  12.681703712434329,\n",
       "  11.558587532147481,\n",
       "  11.553882356939372,\n",
       "  11.54649684285076,\n",
       "  11.540896969388161,\n",
       "  11.53357502307076,\n",
       "  11.526845346956655,\n",
       "  11.521741399945364,\n",
       "  11.521489249063778,\n",
       "  11.51989168847274,\n",
       "  11.515338629993357,\n",
       "  11.5115855553471,\n",
       "  11.510118879819625,\n",
       "  11.509870903616788,\n",
       "  11.509789688474578,\n",
       "  11.507042787127649,\n",
       "  11.504513390800456,\n",
       "  11.50298561727374,\n",
       "  11.502259671856155,\n",
       "  11.501529832119486,\n",
       "  11.500653606953888,\n",
       "  11.50041119781182,\n",
       "  11.498974949033515,\n",
       "  11.497714099134663,\n",
       "  11.49684104332641,\n",
       "  11.496052681849985,\n",
       "  11.49567294381592,\n",
       "  11.495175980895606,\n",
       "  11.494527726877061,\n",
       "  11.494272691574938,\n",
       "  11.493555222975502,\n",
       "  11.493426575918296,\n",
       "  11.492765438253237,\n",
       "  11.492611673819631,\n",
       "  11.492049460439748,\n",
       "  11.491780804152285,\n",
       "  11.491335001340131,\n",
       "  11.490962974859755,\n",
       "  11.490636797366735,\n",
       "  11.490221141996853,\n",
       "  11.489980707029478,\n",
       "  11.48956764378931,\n",
       "  11.489352003861603,\n",
       "  11.488964863372294,\n",
       "  11.488728164661001,\n",
       "  11.48838415186158,\n",
       "  11.488118061443277,\n",
       "  11.487828478400205,\n",
       "  11.480976456899686,\n",
       "  11.45599859540308,\n",
       "  11.429779603784372,\n",
       "  11.390514885782668,\n",
       "  11.370326746746436,\n",
       "  11.339407853326039,\n",
       "  11.329373232959282,\n",
       "  11.30531956005213,\n",
       "  11.295268082199113,\n",
       "  11.273370236151043,\n",
       "  11.262368800351654,\n",
       "  11.232785445944996,\n",
       "  11.231599855748241,\n",
       "  11.213140323393418,\n",
       "  11.212797298088848,\n",
       "  11.211684757700498,\n",
       "  11.20876113588673,\n",
       "  11.208620383106473,\n",
       "  11.208515656844964,\n",
       "  11.208305473744183,\n",
       "  11.208111509990893,\n",
       "  11.208101568425253,\n",
       "  11.2079168390075,\n",
       "  11.207896301129384,\n",
       "  11.207883857201605,\n",
       "  11.207877188911725,\n",
       "  11.207876794437395,\n",
       "  11.207873026052471,\n",
       "  11.207872740086707,\n",
       "  11.207872678903112,\n",
       "  11.207872173356748,\n",
       "  11.207872088995554,\n",
       "  11.207872062681961,\n",
       "  11.20787204892064,\n",
       "  11.20787202696339,\n",
       "  11.207872021697794,\n",
       "  11.207871989194032,\n",
       "  11.20787198615565,\n",
       "  11.207871982958824,\n",
       "  11.207871982785196,\n",
       "  11.2078719813489,\n",
       "  11.20787198116241,\n",
       "  11.20787198084514,\n",
       "  11.207871980748093,\n",
       "  11.207871980702029,\n",
       "  11.207871980698254,\n",
       "  11.207871980686456,\n",
       "  11.207871980614955,\n",
       "  11.207871980608747,\n",
       "  11.207871980605262,\n",
       "  11.20787198060508,\n",
       "  11.207871980600132,\n",
       "  11.207871980599968],\n",
       " 'hist_time_best': [4,\n",
       "  8,\n",
       "  16,\n",
       "  20,\n",
       "  48,\n",
       "  56,\n",
       "  216,\n",
       "  224,\n",
       "  232,\n",
       "  252,\n",
       "  260,\n",
       "  268,\n",
       "  276,\n",
       "  288,\n",
       "  296,\n",
       "  304,\n",
       "  312,\n",
       "  324,\n",
       "  328,\n",
       "  332,\n",
       "  340,\n",
       "  348,\n",
       "  356,\n",
       "  364,\n",
       "  368,\n",
       "  372,\n",
       "  376,\n",
       "  384,\n",
       "  392,\n",
       "  400,\n",
       "  404,\n",
       "  408,\n",
       "  412,\n",
       "  416,\n",
       "  420,\n",
       "  424,\n",
       "  428,\n",
       "  432,\n",
       "  436,\n",
       "  440,\n",
       "  444,\n",
       "  448,\n",
       "  452,\n",
       "  456,\n",
       "  460,\n",
       "  464,\n",
       "  468,\n",
       "  472,\n",
       "  476,\n",
       "  480,\n",
       "  484,\n",
       "  488,\n",
       "  492,\n",
       "  496,\n",
       "  500,\n",
       "  504,\n",
       "  508,\n",
       "  512,\n",
       "  516,\n",
       "  520,\n",
       "  524,\n",
       "  528,\n",
       "  532,\n",
       "  536,\n",
       "  540,\n",
       "  544,\n",
       "  628,\n",
       "  632,\n",
       "  636,\n",
       "  644,\n",
       "  676,\n",
       "  684,\n",
       "  728,\n",
       "  732,\n",
       "  736,\n",
       "  776,\n",
       "  828,\n",
       "  836,\n",
       "  868,\n",
       "  876,\n",
       "  928,\n",
       "  936,\n",
       "  968,\n",
       "  976,\n",
       "  1020,\n",
       "  1028,\n",
       "  1060,\n",
       "  1064,\n",
       "  1068,\n",
       "  1112,\n",
       "  1160,\n",
       "  1164,\n",
       "  1168,\n",
       "  1204,\n",
       "  1212,\n",
       "  1260,\n",
       "  1268,\n",
       "  1296,\n",
       "  1300,\n",
       "  1304,\n",
       "  1360,\n",
       "  1396,\n",
       "  1400,\n",
       "  1404,\n",
       "  1496],\n",
       " 'hist_x_best': array([[ 0.28677805, -0.07982693,  0.37394315],\n",
       "        [ 0.31526842,  0.68193128,  0.38221428],\n",
       "        [ 0.10571187,  3.10478029,  0.7925689 ],\n",
       "        [ 1.83064025,  2.61008766,  0.62588846],\n",
       "        [ 2.03513818,  4.17213075,  0.02683208],\n",
       "        [ 1.50190076,  3.40056712, -0.55198269],\n",
       "        [ 1.32279522,  3.06337248, -0.05683267],\n",
       "        [ 1.32555123,  3.05227041,  0.01992968],\n",
       "        [ 1.34077022,  3.10732747,  0.12366391],\n",
       "        [ 1.47605956,  3.1180829 ,  0.34169873],\n",
       "        [ 1.44272069,  3.10125745,  0.40564026],\n",
       "        [ 1.3932076 ,  3.0510654 ,  0.4526431 ],\n",
       "        [ 1.36728703,  2.96594628,  0.48778366],\n",
       "        [ 1.31604213,  2.89966081,  0.56019528],\n",
       "        [ 1.2924721 ,  2.898359  ,  0.62507547],\n",
       "        [ 1.30936257,  2.89046904,  0.69168094],\n",
       "        [ 1.33457065,  2.884395  ,  0.75870499],\n",
       "        [ 1.35010468,  2.86934271,  0.85089516],\n",
       "        [ 1.34868933,  2.85800314,  0.8774402 ],\n",
       "        [ 1.32378209,  2.863035  ,  0.90670624],\n",
       "        [ 1.31176152,  2.82363194,  0.95005083],\n",
       "        [ 1.28881295,  2.78903878,  0.99229714],\n",
       "        [ 1.26321809,  2.76509415,  1.03697045],\n",
       "        [ 1.26397974,  2.73198558,  1.08044484],\n",
       "        [ 1.25015976,  2.73535568,  1.10750292],\n",
       "        [ 1.24782585,  2.73112104,  1.13287649],\n",
       "        [ 1.25892364,  2.71640705,  1.15571303],\n",
       "        [ 1.25942834,  2.71029576,  1.20649703],\n",
       "        [ 1.25904526,  2.70131106,  1.25473444],\n",
       "        [ 1.26031197,  2.68183877,  1.29780866],\n",
       "        [ 1.24920053,  2.67977916,  1.32022497],\n",
       "        [ 1.24434625,  2.66979293,  1.34010639],\n",
       "        [ 1.24530032,  2.65291985,  1.35780267],\n",
       "        [ 1.24120096,  2.6402891 ,  1.37615067],\n",
       "        [ 1.22988545,  2.63470255,  1.39594958],\n",
       "        [ 1.22108573,  2.62748584,  1.41517679],\n",
       "        [ 1.22008276,  2.61409156,  1.43279937],\n",
       "        [ 1.22005476,  2.60139007,  1.45055305],\n",
       "        [ 1.21454192,  2.59569939,  1.47000738],\n",
       "        [ 1.20791786,  2.59275166,  1.49010909],\n",
       "        [ 1.20720077,  2.58557263,  1.50911628],\n",
       "        [ 1.21028639,  2.57580841,  1.52737955],\n",
       "        [ 1.20995512,  2.56993875,  1.54642275],\n",
       "        [ 1.20566369,  2.56802937,  1.56619672],\n",
       "        [ 1.20339057,  2.56393356,  1.5851367 ],\n",
       "        [ 1.2050215 ,  2.55551234,  1.60267214],\n",
       "        [ 1.2054572 ,  2.54743691,  1.61991753],\n",
       "        [ 1.2013546 ,  2.54282147,  1.63762502],\n",
       "        [ 1.19626542,  2.53829421,  1.65497682],\n",
       "        [ 1.19425143,  2.53010226,  1.67107796],\n",
       "        [ 1.19340247,  2.52029915,  1.6864678 ],\n",
       "        [ 1.18968874,  2.51301764,  1.70220201],\n",
       "        [ 1.18388041,  2.50779978,  1.71821351],\n",
       "        [ 1.12069569,  2.50850484,  1.76397138],\n",
       "        [ 1.07555101,  2.45732442,  1.81985081],\n",
       "        [ 1.06279808,  2.35483419,  1.88213761],\n",
       "        [ 1.02790661,  2.26513663,  1.96452746],\n",
       "        [ 0.95634693,  2.21499994,  2.0705049 ],\n",
       "        [ 0.90391972,  2.16471746,  2.18541078],\n",
       "        [ 0.90442653,  2.0909535 ,  2.29925639],\n",
       "        [ 0.92050735,  2.03092914,  2.41891257],\n",
       "        [ 0.91515708,  2.01749528,  2.55032548],\n",
       "        [ 0.91232438,  2.02464515,  2.68359122],\n",
       "        [ 0.94682387,  2.01402625,  2.80575913],\n",
       "        [ 1.02653719,  1.97169315,  2.92567319],\n",
       "        [ 1.0307    ,  1.99723089,  3.0490793 ],\n",
       "        [ 1.04329134,  2.06955622,  2.94947278],\n",
       "        [ 1.04571838,  2.03522808,  2.97053335],\n",
       "        [ 1.02332823,  2.01766712,  2.9931801 ],\n",
       "        [ 0.98193758,  1.98104549,  3.03018331],\n",
       "        [ 0.99698399,  1.98729059,  3.03999038],\n",
       "        [ 1.01053964,  2.01321186,  3.0166868 ],\n",
       "        [ 0.99471946,  1.99397484,  2.98214087],\n",
       "        [ 0.99120613,  1.99717778,  2.99225715],\n",
       "        [ 0.99462686,  1.99578295,  3.00137487],\n",
       "        [ 0.99697161,  1.99682331,  3.00577364],\n",
       "        [ 1.00230666,  2.00315415,  3.00039158],\n",
       "        [ 1.00046642,  1.99959659,  3.00336649],\n",
       "        [ 0.99853151,  1.99825021,  3.00257677],\n",
       "        [ 1.00047383,  2.00002031,  3.00076709],\n",
       "        [ 0.99937488,  1.99918454,  2.99993199],\n",
       "        [ 0.99952288,  1.99935047,  3.00112971],\n",
       "        [ 1.00012235,  1.99993778,  3.00058264],\n",
       "        [ 0.99984501,  1.9999904 ,  2.99976131],\n",
       "        [ 1.00024491,  2.00022141,  3.0000461 ],\n",
       "        [ 1.00010166,  2.00008216,  3.0003375 ],\n",
       "        [ 0.99985384,  1.99978268,  3.00016346],\n",
       "        [ 0.99992774,  1.99983441,  3.00008255],\n",
       "        [ 0.9999354 ,  1.99996007,  3.00001745],\n",
       "        [ 0.99998146,  1.99998019,  2.99990461],\n",
       "        [ 1.0000166 ,  2.00001923,  3.00005548],\n",
       "        [ 1.00000853,  2.00002414,  3.00002323],\n",
       "        [ 1.00001695,  2.0000096 ,  2.99998928],\n",
       "        [ 1.00000839,  2.00001018,  2.99996527],\n",
       "        [ 1.00001059,  2.00001431,  3.00000203],\n",
       "        [ 0.99999303,  1.9999895 ,  2.99999796],\n",
       "        [ 0.99999819,  2.00000319,  2.99998855],\n",
       "        [ 1.00000678,  2.00000782,  2.99998876],\n",
       "        [ 1.0000017 ,  2.0000065 ,  2.99999186],\n",
       "        [ 1.00000003,  2.00000186,  2.99999468],\n",
       "        [ 1.00000134,  2.00000246,  2.99999999],\n",
       "        [ 0.99999905,  1.99999976,  2.99999692],\n",
       "        [ 0.99999994,  1.9999993 ,  2.99999832],\n",
       "        [ 0.99999987,  1.99999972,  2.99999984],\n",
       "        [ 0.99999995,  1.99999991,  2.99999985]]),\n",
       " 'stop_condition': 'too small gradient'}"
      ]
     },
     "execution_count": 57,
     "metadata": {},
     "output_type": "execute_result"
    }
   ],
   "source": [
    "gradient_descent(func = neural_network_cost,\n",
    "                 start_x = np.array([0.28677805, -0.07982693,  0.37394315]),\n",
    "                 LB = [-5] * 3, UB = [5] * 3,budget = 1000000)"
   ]
  }
 ],
 "metadata": {
  "kernelspec": {
   "display_name": "Python 3 (ipykernel)",
   "language": "python",
   "name": "python3"
  },
  "language_info": {
   "codemirror_mode": {
    "name": "ipython",
    "version": 3
   },
   "file_extension": ".py",
   "mimetype": "text/x-python",
   "name": "python",
   "nbconvert_exporter": "python",
   "pygments_lexer": "ipython3",
   "version": "3.9.13"
  }
 },
 "nbformat": 4,
 "nbformat_minor": 5
}
