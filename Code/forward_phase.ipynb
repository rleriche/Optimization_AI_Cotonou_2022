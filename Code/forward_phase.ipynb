{
 "cells": [
  {
   "cell_type": "markdown",
   "id": "5beba1e8",
   "metadata": {},
   "source": [
    "# A neural network in Python from scratch"
   ]
  },
  {
   "cell_type": "code",
   "execution_count": 3,
   "id": "8ab22ff8",
   "metadata": {},
   "outputs": [],
   "source": [
    "import numpy as np\n",
    "from typing import Union, Callable\n",
    "from copy import deepcopy\n",
    "\n",
    "from forward_propagation import (\n",
    "    forward_propagation, \n",
    "    create_weights, \n",
    "    vector_to_weights)\n",
    "\n",
    "from activation_functions import relu, sigmoid \n",
    "import test_functions\n",
    "from gradient_descent import gradient_descent\n",
    "\n",
    "%load_ext autoreload\n",
    "%autoreload 2\n",
    "np.random.seed(42)"
   ]
  },
  {
   "cell_type": "markdown",
   "id": "9b255d05",
   "metadata": {},
   "source": [
    "## Multiple inputs\n",
    "\n",
    "Give as inputs a vector $(1,2,5,4)$, processed by a layer of 3 neurons.  \n",
    "`weights` has dimension $\\text{nb_inputs}\\times (\\text{nb_neurons}+1)$   (the +1 is for the biases, the last column of `weights`, -1, 0 and 1 in the first example)."
   ]
  },
  {
   "cell_type": "code",
   "execution_count": 4,
   "id": "5b994a24",
   "metadata": {},
   "outputs": [
    {
     "data": {
      "text/plain": [
       "array([[0.99899323, 1.        , 0.99945816]])"
      ]
     },
     "execution_count": 4,
     "metadata": {},
     "output_type": "execute_result"
    }
   ],
   "source": [
    "inputs = np.array([[1,2,5,4]])\n",
    "weights = [\n",
    "        np.array(\n",
    "            [\n",
    "                [1,0.2,0.5,1,-1],\n",
    "                [2,1,3,5,0],\n",
    "                [0.2,0.1,0.6,0.78,1]\n",
    "            ]\n",
    "        )\n",
    "    ]\n",
    "activation = sigmoid\n",
    "forward_propagation(inputs,weights,activation)"
   ]
  },
  {
   "cell_type": "markdown",
   "id": "1554804c",
   "metadata": {},
   "source": [
    "Another example:"
   ]
  },
  {
   "cell_type": "code",
   "execution_count": 5,
   "id": "5c54b102",
   "metadata": {},
   "outputs": [
    {
     "data": {
      "text/plain": [
       "array([[0.53469416, 0.94103299, 0.79062883]])"
      ]
     },
     "execution_count": 5,
     "metadata": {},
     "output_type": "execute_result"
    }
   ],
   "source": [
    "inputs = np.array([[1,0.2,0.15,0.024]])\n",
    "weights = [\n",
    "        np.array(\n",
    "            [\n",
    "                [1,0.2,0.5,1,-1],\n",
    "                [2,1,3,5,0],\n",
    "                [0.2,0.1,0.6,0.78,1]\n",
    "            ]\n",
    "        )\n",
    "    ]\n",
    "activation = sigmoid\n",
    "forward_propagation(inputs,weights,activation)"
   ]
  },
  {
   "cell_type": "markdown",
   "id": "c08830e8",
   "metadata": {},
   "source": [
    "With the same network, calculate 2 data inputs entered as rows in `inputs`:"
   ]
  },
  {
   "cell_type": "code",
   "execution_count": 6,
   "id": "d9fc379e",
   "metadata": {},
   "outputs": [
    {
     "data": {
      "text/plain": [
       "array([[0.99899323, 1.        , 0.99945816],\n",
       "       [0.53469416, 0.94103299, 0.79062883]])"
      ]
     },
     "execution_count": 6,
     "metadata": {},
     "output_type": "execute_result"
    }
   ],
   "source": [
    "inputs = np.array([[1,2,5,4],[1,0.2,0.15,0.024]])\n",
    "weights = [\n",
    "        np.array(\n",
    "            [\n",
    "                [1,0.2,0.5,1,-1],\n",
    "                [2,1,3,5,0],\n",
    "                [0.2,0.1,0.6,0.78,1]\n",
    "            ]\n",
    "        )\n",
    "    ]\n",
    "activation = sigmoid\n",
    "forward_propagation(inputs,weights,activation)"
   ]
  },
  {
   "cell_type": "markdown",
   "id": "c483a8a4",
   "metadata": {},
   "source": [
    "The following network has 2 layers, the first going from the 4 input components to the 3 internal neurons, the second going from the 3 internal neurons outputs to the 2 outputs:"
   ]
  },
  {
   "cell_type": "code",
   "execution_count": 7,
   "id": "ecb06e9b",
   "metadata": {},
   "outputs": [
    {
     "data": {
      "text/plain": [
       "array([[0.93695121, 0.99998324],\n",
       "       [0.89266103, 0.99991581]])"
      ]
     },
     "execution_count": 7,
     "metadata": {},
     "output_type": "execute_result"
    }
   ],
   "source": [
    "inputs = np.array([[1,2,5,4],[1,0.2,0.15,0.024]])\n",
    "weights = [\n",
    "        np.array(\n",
    "            [\n",
    "                [1,0.2,0.5,1,-1],\n",
    "                [2,1,3,5,0],\n",
    "                [0.2,0.1,0.6,0.78,1]\n",
    "            ]\n",
    "        ),\n",
    "    np.array(\n",
    "            [\n",
    "                [1,0.2,0.5,1],\n",
    "                [2,1,3,5]\n",
    "            ]\n",
    "        )\n",
    "    ]\n",
    "activation = sigmoid\n",
    "forward_propagation(inputs,weights,activation)"
   ]
  },
  {
   "cell_type": "markdown",
   "id": "679d29da",
   "metadata": {},
   "source": [
    "### Creating a data set \n",
    "Create a data set of points sampled randomly from a function."
   ]
  },
  {
   "cell_type": "code",
   "execution_count": null,
   "id": "427d5d53",
   "metadata": {},
   "outputs": [],
   "source": [
    "# very easy function\n",
    "def linear_function(x):\n",
    "    d=len(x)\n",
    "    xstar=np.array(range(1,(d+1)))\n",
    "    xx=x.dot(xstar) + 3\n",
    "    return xx"
   ]
  },
  {
   "cell_type": "code",
   "execution_count": null,
   "id": "ca0816f0",
   "metadata": {},
   "outputs": [],
   "source": [
    "def simulate_data_target(fun: Callable,\n",
    "                       n_features: int,\n",
    "                       n_obs: int,\n",
    "                       LB: list[float] = -5,\n",
    "                       UB: list[float] = 5) -> dict:\n",
    "    \n",
    "    entry_data = np.random.uniform(low= [LB] * n_features,\n",
    "                                   high= [UB] * n_features,\n",
    "                                   size=(n_obs, n_features))\n",
    "    target = np.apply_along_axis(fun, 1, entry_data)\n",
    "    \n",
    "    return {\"data\": entry_data, \"target\": target}"
   ]
  },
  {
   "cell_type": "code",
   "execution_count": null,
   "id": "2c18847d",
   "metadata": {},
   "outputs": [],
   "source": [
    "#used_function = test_functions.sphere\n",
    "used_function = linear_function\n",
    "simulated_data = simulate_data_target(fun = used_function,n_features = 2,n_obs=10)"
   ]
  },
  {
   "cell_type": "code",
   "execution_count": null,
   "id": "62ac0b65",
   "metadata": {},
   "outputs": [],
   "source": [
    "simulated_data"
   ]
  },
  {
   "cell_type": "markdown",
   "id": "ce558e4a",
   "metadata": {},
   "source": [
    "### Neural Network weight and output"
   ]
  },
  {
   "cell_type": "code",
   "execution_count": null,
   "id": "8703c282",
   "metadata": {},
   "outputs": [],
   "source": [
    "weights = create_weights([2,1])\n",
    "predicted_output = forward_propagation(simulated_data[\"data\"],weights,sigmoid)"
   ]
  },
  {
   "cell_type": "code",
   "execution_count": null,
   "id": "d4b2a915",
   "metadata": {},
   "outputs": [],
   "source": [
    "weights"
   ]
  },
  {
   "cell_type": "code",
   "execution_count": null,
   "id": "654291ce",
   "metadata": {},
   "outputs": [],
   "source": [
    "simulated_data[\"target\"]"
   ]
  },
  {
   "cell_type": "code",
   "execution_count": null,
   "id": "61951dde",
   "metadata": {},
   "outputs": [],
   "source": [
    "predicted_output.reshape(-1,)"
   ]
  },
  {
   "cell_type": "code",
   "execution_count": null,
   "id": "a05dc6a3",
   "metadata": {},
   "outputs": [],
   "source": [
    "vector_to_weights([0.28677805, -0.07982693,  0.37394315],[2,1])"
   ]
  },
  {
   "cell_type": "markdown",
   "id": "890ccb86",
   "metadata": {},
   "source": [
    "### Error function"
   ]
  },
  {
   "cell_type": "code",
   "execution_count": null,
   "id": "1b987f33",
   "metadata": {},
   "outputs": [],
   "source": [
    "# mean squared error\n",
    "def cost_function_mse(y_predicted: np.ndarray,y_observed: np.ndarray):\n",
    "    error = np.mean((y_predicted - y_observed)**2)\n",
    "    return error"
   ]
  },
  {
   "cell_type": "code",
   "execution_count": null,
   "id": "ecdb5e9c",
   "metadata": {},
   "outputs": [],
   "source": [
    "# entropy\n",
    "def cost_function_entropy(y_predicted: np.ndarray,y_observed: np.ndarray):\n",
    "\n",
    "    n = len(y_observed)\n",
    "    \n",
    "    term_A = np.multiply(np.log(y_predicted),y_observed)\n",
    "    term_B = np.multiply(1-y_observed,np.log(1-y_predicted))\n",
    "    \n",
    "    error = - (1/n)*(np.sum(term_A)+np.sum(term_B))\n",
    "\n",
    "    return(error)"
   ]
  },
  {
   "cell_type": "code",
   "execution_count": null,
   "id": "870e81f7",
   "metadata": {},
   "outputs": [],
   "source": [
    "def error_with_parameters(vector_weights: np.ndarray,\n",
    "                          activation_function: Callable,\n",
    "                          data: dict,\n",
    "                          cost_function: Callable,\n",
    "                          regularization: float = 0) -> float:\n",
    "    \n",
    "    weights = vector_to_weights(vector_weights,used_network_structure)\n",
    "    predicted_output = forward_propagation(data[\"data\"],weights,activation_function)\n",
    "    predicted_output = predicted_output.reshape(-1,)\n",
    "    \n",
    "    error = cost_function(predicted_output,data[\"target\"]) + regularization * np.sum(np.abs(vector_weights))\n",
    "    \n",
    "    return error"
   ]
  },
  {
   "cell_type": "code",
   "execution_count": null,
   "id": "26e45422",
   "metadata": {},
   "outputs": [],
   "source": [
    "used_network_structure = [2,1] # 2 inputs features, 1 layer with 1 node\n",
    "used_activation = relu\n",
    "used_data = simulated_data\n",
    "used_cost_function = cost_function_mse\n",
    "\n",
    "def neural_network_cost(vector_weights):\n",
    "    \n",
    "    cost = error_with_parameters(vector_weights,\n",
    "                          activation_function = used_activation,\n",
    "                          data = used_data,\n",
    "                          cost_function = used_cost_function)\n",
    "    \n",
    "    return cost"
   ]
  },
  {
   "cell_type": "code",
   "execution_count": null,
   "id": "68d0fdad",
   "metadata": {},
   "outputs": [],
   "source": [
    "neural_network_cost(np.array([0.28677805, -0.07982693,  0.37394315]))"
   ]
  },
  {
   "cell_type": "markdown",
   "id": "afdfc90f",
   "metadata": {},
   "source": [
    "### Gradient descent"
   ]
  },
  {
   "cell_type": "code",
   "execution_count": null,
   "id": "26f4ab9f",
   "metadata": {},
   "outputs": [],
   "source": [
    "gradient_descent(func = neural_network_cost,\n",
    "                 start_x = np.array([0.28677805, -0.07982693,  0.37394315]),\n",
    "                 LB = [-5] * 3, UB = [5] * 3,budget = 100000)"
   ]
  }
 ],
 "metadata": {
  "kernelspec": {
   "display_name": "Python 3 (ipykernel)",
   "language": "python",
   "name": "python3"
  },
  "language_info": {
   "codemirror_mode": {
    "name": "ipython",
    "version": 3
   },
   "file_extension": ".py",
   "mimetype": "text/x-python",
   "name": "python",
   "nbconvert_exporter": "python",
   "pygments_lexer": "ipython3",
   "version": "3.9.7"
  }
 },
 "nbformat": 4,
 "nbformat_minor": 5
}
