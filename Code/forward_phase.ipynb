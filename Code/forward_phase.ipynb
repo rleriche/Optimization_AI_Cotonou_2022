{
 "cells": [
  {
   "cell_type": "markdown",
   "id": "0f677b79",
   "metadata": {},
   "source": [
    "# A neural network in Python from scratch"
   ]
  },
  {
   "cell_type": "code",
   "execution_count": 40,
   "id": "8ab22ff8",
   "metadata": {},
   "outputs": [
    {
     "name": "stdout",
     "output_type": "stream",
     "text": [
      "The autoreload extension is already loaded. To reload it, use:\n",
      "  %reload_ext autoreload\n"
     ]
    }
   ],
   "source": [
    "import numpy as np\n",
    "from typing import Union, Callable\n",
    "from copy import deepcopy\n",
    "from optim_utilities import print_rec\n",
    "\n",
    "from forward_propagation import (\n",
    "    forward_propagation, \n",
    "    create_weights, \n",
    "    vector_to_weights,\n",
    "    weights_to_vector)\n",
    "\n",
    "from activation_functions import relu, sigmoid \n",
    "from test_functions import (\n",
    "    linear_function,\n",
    "    ackley,\n",
    "    sphere,\n",
    "    quadratic,\n",
    "    rosen,\n",
    "    L1norm,\n",
    "    sphereL1\n",
    ")\n",
    "\n",
    "from gradient_descent import gradient_descent\n",
    "\n",
    "%load_ext autoreload\n",
    "%autoreload 2\n",
    "np.random.seed(42)"
   ]
  },
  {
   "cell_type": "markdown",
   "id": "9b255d05",
   "metadata": {},
   "source": [
    "## Multiple inputs\n",
    "\n",
    "Give as inputs a vector $(1,2,5,4)$, processed by a layer of 3 neurons.  \n",
    "`weights` has dimension $\\text{nb_inputs}\\times (\\text{nb_neurons}+1)$   (the +1 is for the biases, the last column of `weights`, -1, 0 and 1 in the first example)."
   ]
  },
  {
   "cell_type": "code",
   "execution_count": 2,
   "id": "5b994a24",
   "metadata": {},
   "outputs": [
    {
     "data": {
      "text/plain": [
       "array([[0.99899323, 1.        , 0.99945816]])"
      ]
     },
     "execution_count": 2,
     "metadata": {},
     "output_type": "execute_result"
    }
   ],
   "source": [
    "inputs = np.array([[1,2,5,4]])\n",
    "weights = [\n",
    "        np.array(\n",
    "            [\n",
    "                [1,0.2,0.5,1,-1],\n",
    "                [2,1,3,5,0],\n",
    "                [0.2,0.1,0.6,0.78,1]\n",
    "            ]\n",
    "        )\n",
    "    ]\n",
    "activation = sigmoid\n",
    "forward_propagation(inputs,weights,activation)"
   ]
  },
  {
   "cell_type": "markdown",
   "id": "8be5740a",
   "metadata": {},
   "source": [
    "Another example:"
   ]
  },
  {
   "cell_type": "code",
   "execution_count": 3,
   "id": "5c54b102",
   "metadata": {},
   "outputs": [
    {
     "data": {
      "text/plain": [
       "array([[0.53469416, 0.94103299, 0.79062883]])"
      ]
     },
     "execution_count": 3,
     "metadata": {},
     "output_type": "execute_result"
    }
   ],
   "source": [
    "inputs = np.array([[1,0.2,0.15,0.024]])\n",
    "weights = [\n",
    "        np.array(\n",
    "            [\n",
    "                [1,0.2,0.5,1,-1],\n",
    "                [2,1,3,5,0],\n",
    "                [0.2,0.1,0.6,0.78,1]\n",
    "            ]\n",
    "        )\n",
    "    ]\n",
    "activation = sigmoid\n",
    "forward_propagation(inputs,weights,activation)"
   ]
  },
  {
   "cell_type": "markdown",
   "id": "a9877df0",
   "metadata": {},
   "source": [
    "With the same network, calculate 2 data inputs entered as rows in `inputs`:"
   ]
  },
  {
   "cell_type": "code",
   "execution_count": 4,
   "id": "d9fc379e",
   "metadata": {},
   "outputs": [
    {
     "data": {
      "text/plain": [
       "array([[0.99899323, 1.        , 0.99945816],\n",
       "       [0.53469416, 0.94103299, 0.79062883]])"
      ]
     },
     "execution_count": 4,
     "metadata": {},
     "output_type": "execute_result"
    }
   ],
   "source": [
    "inputs = np.array([[1,2,5,4],[1,0.2,0.15,0.024]])\n",
    "weights = [\n",
    "        np.array(\n",
    "            [\n",
    "                [1,0.2,0.5,1,-1],\n",
    "                [2,1,3,5,0],\n",
    "                [0.2,0.1,0.6,0.78,1]\n",
    "            ]\n",
    "        )\n",
    "    ]\n",
    "activation = sigmoid\n",
    "forward_propagation(inputs,weights,activation)"
   ]
  },
  {
   "cell_type": "markdown",
   "id": "db1ae3ae",
   "metadata": {},
   "source": [
    "The following network has 2 layers, the first going from the 4 input components to the 3 internal neurons, the second going from the 3 internal neurons outputs to the 2 outputs:"
   ]
  },
  {
   "cell_type": "code",
   "execution_count": 5,
   "id": "ecb06e9b",
   "metadata": {},
   "outputs": [
    {
     "data": {
      "text/plain": [
       "array([[0.93695121, 0.99998324],\n",
       "       [0.89266103, 0.99991581]])"
      ]
     },
     "execution_count": 5,
     "metadata": {},
     "output_type": "execute_result"
    }
   ],
   "source": [
    "inputs = np.array([[1,2,5,4],[1,0.2,0.15,0.024]])\n",
    "weights = [\n",
    "        np.array(\n",
    "            [\n",
    "                [1,0.2,0.5,1,-1],\n",
    "                [2,1,3,5,0],\n",
    "                [0.2,0.1,0.6,0.78,1]\n",
    "            ]\n",
    "        ),\n",
    "    np.array(\n",
    "            [\n",
    "                [1,0.2,0.5,1],\n",
    "                [2,1,3,5]\n",
    "            ]\n",
    "        )\n",
    "    ]\n",
    "activation = sigmoid\n",
    "forward_propagation(inputs,weights,activation)"
   ]
  },
  {
   "cell_type": "markdown",
   "id": "679d29da",
   "metadata": {},
   "source": [
    "### Create a data set \n",
    "The data set is made of points sampled randomly from a function."
   ]
  },
  {
   "cell_type": "code",
   "execution_count": 7,
   "id": "ca0816f0",
   "metadata": {},
   "outputs": [],
   "source": [
    "def simulate_data_target(fun: Callable,\n",
    "                       n_features: int,\n",
    "                       n_obs: int,\n",
    "                       LB: list[float],\n",
    "                       UB: list[float]) -> dict:\n",
    "    \n",
    "    entry_data = np.random.uniform(low= LB,high=UB,\n",
    "                                   size=(n_obs, n_features))\n",
    "    target = np.apply_along_axis(fun, 1, entry_data)\n",
    "    \n",
    "    return {\"data\": entry_data, \"target\": target}"
   ]
  },
  {
   "cell_type": "code",
   "execution_count": 8,
   "id": "2c18847d",
   "metadata": {},
   "outputs": [],
   "source": [
    "#used_function = test_functions.sphere\n",
    "used_function = linear_function\n",
    "n_features = 2\n",
    "n_obs = 10\n",
    "LB = [-5] * n_features\n",
    "UB = [5] * n_features\n",
    "simulated_data = simulate_data_target(fun = used_function,n_features = n_features,n_obs=n_obs,LB=LB,UB=UB)"
   ]
  },
  {
   "cell_type": "code",
   "execution_count": 9,
   "id": "62ac0b65",
   "metadata": {},
   "outputs": [
    {
     "data": {
      "text/plain": [
       "{'data': array([[-1.25459881,  4.50714306],\n",
       "        [ 2.31993942,  0.98658484],\n",
       "        [-3.4398136 , -3.4400548 ],\n",
       "        [-4.41916388,  3.66176146],\n",
       "        [ 1.01115012,  2.08072578],\n",
       "        [-4.79415506,  4.69909852],\n",
       "        [ 3.32442641, -2.87660889],\n",
       "        [-3.18175033, -3.1659549 ],\n",
       "        [-1.95757757,  0.24756432],\n",
       "        [-0.68054981, -2.0877086 ]]),\n",
       " 'target': array([10.75968732,  7.2931091 , -7.31992319,  5.90435904,  8.17260167,\n",
       "         7.60404199,  0.57120862, -6.51366013,  1.53755106, -1.85596701])}"
      ]
     },
     "execution_count": 9,
     "metadata": {},
     "output_type": "execute_result"
    }
   ],
   "source": [
    "simulated_data"
   ]
  },
  {
   "cell_type": "markdown",
   "id": "ce558e4a",
   "metadata": {},
   "source": [
    "### Neural Network weight and output\n",
    "\n",
    "Create a NN with 1 layer, 2 inputs and 1 output"
   ]
  },
  {
   "cell_type": "code",
   "execution_count": 14,
   "id": "8703c282",
   "metadata": {},
   "outputs": [],
   "source": [
    "weights = create_weights([2,1])\n",
    "predicted_output = forward_propagation(simulated_data[\"data\"],weights,sigmoid)"
   ]
  },
  {
   "cell_type": "code",
   "execution_count": 15,
   "id": "d4b2a915",
   "metadata": {},
   "outputs": [
    {
     "data": {
      "text/plain": [
       "[array([[ 0.28677805, -0.07982693,  0.37394315]])]"
      ]
     },
     "execution_count": 15,
     "metadata": {},
     "output_type": "execute_result"
    }
   ],
   "source": [
    "weights"
   ]
  },
  {
   "cell_type": "code",
   "execution_count": 17,
   "id": "654291ce",
   "metadata": {},
   "outputs": [
    {
     "data": {
      "text/plain": [
       "array([10.75968732,  7.2931091 , -7.31992319,  5.90435904,  8.17260167,\n",
       "        7.60404199,  0.57120862, -6.51366013,  1.53755106, -1.85596701])"
      ]
     },
     "execution_count": 17,
     "metadata": {},
     "output_type": "execute_result"
    }
   ],
   "source": [
    "simulated_data[\"target\"]"
   ]
  },
  {
   "cell_type": "code",
   "execution_count": 18,
   "id": "61951dde",
   "metadata": {},
   "outputs": [
    {
     "data": {
      "text/plain": [
       "array([0.41444019, 0.72322086, 0.41631704, 0.23403188, 0.62194709,\n",
       "       0.20164737, 0.82591476, 0.42903619, 0.4483822 , 0.58550936])"
      ]
     },
     "execution_count": 18,
     "metadata": {},
     "output_type": "execute_result"
    }
   ],
   "source": [
    "predicted_output.reshape(-1,)"
   ]
  },
  {
   "cell_type": "code",
   "execution_count": 19,
   "id": "a05dc6a3",
   "metadata": {},
   "outputs": [
    {
     "data": {
      "text/plain": [
       "[array([[ 0.28677805, -0.07982693,  0.37394315]])]"
      ]
     },
     "execution_count": 19,
     "metadata": {},
     "output_type": "execute_result"
    }
   ],
   "source": [
    "vector_to_weights([0.28677805, -0.07982693,  0.37394315],[2,1])"
   ]
  },
  {
   "cell_type": "markdown",
   "id": "890ccb86",
   "metadata": {},
   "source": [
    "### Error function"
   ]
  },
  {
   "cell_type": "code",
   "execution_count": 20,
   "id": "1b987f33",
   "metadata": {},
   "outputs": [],
   "source": [
    "\n",
    "# mean squared error\n",
    "def cost_function_mse(y_predicted: np.ndarray,y_observed: np.ndarray):\n",
    "    error = 0.5 * np.mean((y_predicted - y_observed)**2)\n",
    "    return error"
   ]
  },
  {
   "cell_type": "code",
   "execution_count": 21,
   "id": "ecdb5e9c",
   "metadata": {},
   "outputs": [],
   "source": [
    "# entropy\n",
    "def cost_function_entropy(y_predicted: np.ndarray,y_observed: np.ndarray):\n",
    "\n",
    "    n = len(y_observed)\n",
    "    \n",
    "    term_A = np.multiply(np.log(y_predicted),y_observed)\n",
    "    term_B = np.multiply(1-y_observed,np.log(1-y_predicted))\n",
    "    \n",
    "    error = - (1/n)*(np.sum(term_A)+np.sum(term_B))\n",
    "\n",
    "    return(error)"
   ]
  },
  {
   "cell_type": "code",
   "execution_count": 22,
   "id": "870e81f7",
   "metadata": {},
   "outputs": [],
   "source": [
    "def error_with_parameters(vector_weights: np.ndarray,\n",
    "                          network_structure: list[int],\n",
    "                          activation_function: Callable,\n",
    "                          data: dict,\n",
    "                          cost_function: Callable,\n",
    "                          regularization: float = 0) -> float:\n",
    "    \n",
    "    weights = vector_to_weights(vector_weights,used_network_structure)\n",
    "    predicted_output = forward_propagation(data[\"data\"],weights,activation_function)\n",
    "    predicted_output = predicted_output.reshape(-1,)\n",
    "    \n",
    "    error = cost_function(predicted_output,data[\"target\"]) + regularization * np.sum(np.abs(vector_weights))\n",
    "    \n",
    "    return error"
   ]
  },
  {
   "cell_type": "code",
   "execution_count": 25,
   "id": "26e45422",
   "metadata": {},
   "outputs": [],
   "source": [
    "used_network_structure = [2,1] # 2 inputs features, 1 layer with 1 node\n",
    "used_activation = relu\n",
    "used_data = simulated_data\n",
    "used_cost_function = cost_function_mse\n",
    "\n",
    "\n",
    "def neural_network_cost(vector_weights):\n",
    "    \n",
    "    cost = error_with_parameters(vector_weights,\n",
    "                                 network_structure = used_network_structure,\n",
    "                                 activation_function = used_activation,\n",
    "                                 data = used_data,\n",
    "                                 cost_function = used_cost_function)\n",
    "    \n",
    "    return cost"
   ]
  },
  {
   "cell_type": "code",
   "execution_count": 26,
   "id": "68d0fdad",
   "metadata": {},
   "outputs": [
    {
     "data": {
      "text/plain": [
       "20.582449424182073"
      ]
     },
     "execution_count": 26,
     "metadata": {},
     "output_type": "execute_result"
    }
   ],
   "source": [
    "neural_network_cost(np.array([0.28677805, -0.07982693,  0.37394315]))"
   ]
  },
  {
   "cell_type": "markdown",
   "id": "afdfc90f",
   "metadata": {},
   "source": [
    "### Gradient descent"
   ]
  },
  {
   "cell_type": "code",
   "execution_count": 30,
   "id": "26f4ab9f",
   "metadata": {},
   "outputs": [],
   "source": [
    "LB = [-5] * 3 \n",
    "UB = [5] * 3\n",
    "printlevel = 1\n",
    "res = gradient_descent(func = neural_network_cost,\n",
    "                 start_x = np.array([0.28677805, -0.07982693,  0.37394315]),\n",
    "                 LB = LB, UB = UB,budget = 1000,printlevel=printlevel)"
   ]
  },
  {
   "cell_type": "code",
   "execution_count": 31,
   "id": "0ae79355",
   "metadata": {},
   "outputs": [
    {
     "name": "stdout",
     "output_type": "stream",
     "text": [
      "search stopped after 1011 evaluations of f because of budget exhausted \n",
      "best objective function = 4.972682866697983\n",
      "best x = [1.00000322 2.00000681 2.99997684]\n"
     ]
    },
    {
     "data": {
      "image/png": "[encoded data removed]",
      "text/plain": [
       "<Figure size 432x288 with 1 Axes>"
      ]
     },
     "metadata": {
      "needs_background": "light"
     },
     "output_type": "display_data"
    }
   ],
   "source": [
    "print_rec(res=res, fun=neural_network_cost, dim=len(res[\"x_best\"]), LB=LB, UB=UB , printlevel=printlevel, logscale = False)"
   ]
  },
  {
   "cell_type": "markdown",
   "id": "a7a1f8c8",
   "metadata": {},
   "source": [
    "## A more complex network\n",
    "\n",
    "### Generate data\n"
   ]
  },
  {
   "cell_type": "code",
   "execution_count": 43,
   "id": "ddf135d7",
   "metadata": {},
   "outputs": [],
   "source": [
    "#used_function = test_functions.sphere\n",
    "used_function = quadratic\n",
    "n_features = 2\n",
    "n_obs = 100\n",
    "LBfeatures = [-5] * n_features\n",
    "UBfeatures = [5] * n_features\n",
    "simulated_data = simulate_data_target(fun = used_function,n_features = n_features,n_obs=n_obs,\n",
    "                                      LB=LBfeatures,UB=UBfeatures)"
   ]
  },
  {
   "cell_type": "code",
   "execution_count": 46,
   "id": "d1c01f77",
   "metadata": {},
   "outputs": [
    {
     "data": {
      "text/plain": [
       "21"
      ]
     },
     "execution_count": 46,
     "metadata": {},
     "output_type": "execute_result"
    }
   ],
   "source": [
    "weights = create_weights([2,5,1])\n",
    "weights_as_vector,_ = weights_to_vector(weights)\n",
    "dim = len(weights_as_vector) #len(weights[0].reshape(-1,))+len(weights[1].reshape(-1,))"
   ]
  },
  {
   "cell_type": "code",
   "execution_count": 52,
   "id": "0133f142",
   "metadata": {},
   "outputs": [
    {
     "data": {
      "text/plain": [
       "333.3368947402171"
      ]
     },
     "execution_count": 52,
     "metadata": {},
     "output_type": "execute_result"
    }
   ],
   "source": [
    "used_network_structure = [2,5,1]\n",
    "used_activation = relu\n",
    "used_data = simulated_data\n",
    "used_cost_function = cost_function_mse\n",
    "neural_network_cost(weights_as_vector)"
   ]
  },
  {
   "cell_type": "code",
   "execution_count": 53,
   "id": "7af57d75",
   "metadata": {},
   "outputs": [],
   "source": [
    "LB = [-5] * dim\n",
    "UB = [5] * dim\n",
    "printlevel = 1\n",
    "res = gradient_descent(func = neural_network_cost,\n",
    "                 start_x = weights_as_vector,\n",
    "                 LB = LB, UB = UB,budget = 1000,printlevel=printlevel)"
   ]
  },
  {
   "cell_type": "code",
   "execution_count": 54,
   "id": "2133a1ca",
   "metadata": {},
   "outputs": [
    {
     "name": "stdout",
     "output_type": "stream",
     "text": [
      "search stopped after 1012 evaluations of f because of budget exhausted \n",
      "best objective function = 20.06933125524476\n",
      "best x = [-0.80448438 -1.44971767 -0.03157324 -0.85582386 -2.66732884 -0.81907098\n",
      "  0.54159979  1.61602972 -0.6205595   0.30593398 -0.30589885 -0.25183372\n",
      "  1.38804845 -0.56071204 -1.30127383  1.25654849  2.08661095  4.99999972\n",
      " -0.37294489 -0.16666995  4.59819475]\n"
     ]
    },
    {
     "data": {
      "image/png": "[encoded data removed]",
      "text/plain": [
       "<Figure size 432x288 with 1 Axes>"
      ]
     },
     "metadata": {
      "needs_background": "light"
     },
     "output_type": "display_data"
    }
   ],
   "source": [
    "print_rec(res=res, fun=neural_network_cost, dim=len(res[\"x_best\"]), LB=LB, UB=UB , printlevel=printlevel, logscale = True)"
   ]
  }
 ],
 "metadata": {
  "kernelspec": {
   "display_name": "Python 3 (ipykernel)",
   "language": "python",
   "name": "python3"
  },
  "language_info": {
   "codemirror_mode": {
    "name": "ipython",
    "version": 3
   },
   "file_extension": ".py",
   "mimetype": "text/x-python",
   "name": "python",
   "nbconvert_exporter": "python",
   "pygments_lexer": "ipython3",
   "version": "3.9.7"
  }
 },
 "nbformat": 4,
 "nbformat_minor": 5
}
