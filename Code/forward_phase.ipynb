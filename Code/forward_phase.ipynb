{
 "cells": [
  {
   "cell_type": "code",
   "execution_count": 92,
   "id": "8ab22ff8",
   "metadata": {},
   "outputs": [],
   "source": [
    "import numpy as np\n",
    "from typing import Union, Callable\n",
    "import pytest\n",
    "import ipytest\n",
    "from copy import deepcopy\n",
    "\n",
    "import forward_propagation as fwd\n",
    "from activation_functions import relu,sigmoid \n",
    "import test_functions\n",
    "\n",
    "#%load_ext autoreload\n",
    "%autoreload 2\n",
    "np.random.seed(42)"
   ]
  },
  {
   "cell_type": "markdown",
   "id": "63a289ce",
   "metadata": {},
   "source": [
    "## Tests"
   ]
  },
  {
   "cell_type": "code",
   "execution_count": null,
   "id": "a83b61ab",
   "metadata": {},
   "outputs": [],
   "source": [
    "def test_forward_nn_returns_correct_value():\n",
    "    #given\n",
    "    inputs = np.array([[1,2,5,4]])\n",
    "    weights = [\n",
    "        np.array(\n",
    "            [\n",
    "                [1,0.2,0.5,1,-1],\n",
    "                [2,1,3,5,0],\n",
    "                [0.2,0.1,0.6,0.78,1]\n",
    "            ]\n",
    "        )\n",
    "    ]\n",
    "    activation = sigmoid\n",
    "    expected_output = np.array([[0.99899323, 1, 0.99945816]])\n",
    "    #when\n",
    "    output = fwd.forward_propagation(inputs,weights,activation)\n",
    "    #then\n",
    "    np.testing.assert_allclose(output, expected_output)\n",
    "    \n",
    "    \n",
    "@pytest.mark.parametrize('activation', [\n",
    "    (sigmoid),\n",
    "    ([sigmoid]),\n",
    "    ([[sigmoid,sigmoid,sigmoid]])\n",
    "])\n",
    "def test_forward_nn_returns_correct_value(activation):\n",
    "    #given\n",
    "    inputs = np.array([[1,2,5,4]])\n",
    "    weights = [\n",
    "        np.array(\n",
    "            [\n",
    "                [1,0.2,0.5,1,-1],\n",
    "                [2,1,3,5,0],\n",
    "                [0.2,0.1,0.6,0.78,1]\n",
    "            ]\n",
    "        )\n",
    "    ]\n",
    "\n",
    "    expected_output = np.array([[0.99899323, 1, 0.99945816]])\n",
    "    #when\n",
    "    output = fwd.forward_propagation(inputs,weights,activation)\n",
    "    #then\n",
    "    np.testing.assert_allclose(output, expected_output)\n",
    "\n",
    "ipytest.run(\"-qq\")"
   ]
  },
  {
   "cell_type": "code",
   "execution_count": null,
   "id": "ef7f1237",
   "metadata": {},
   "outputs": [],
   "source": [
    "def test_vector_to_weights_returns_correct_value():\n",
    "    # given\n",
    "    vector = [0.2027827,-0.05644616,0.26441774,0.62177434,-0.09559271,-0.09558601,\n",
    "              0.64471093,  0.31330392, -0.19166212,  0.22149921, -0.18918948,-0.19013338,\n",
    "              0.09878068, -0.78109339, -0.70419476, -0.22955292, -0.41348657,0.12829094,\n",
    "              -0.45401204, -0.70615185,  0.73282438, -0.11288815]\n",
    "    network_structure = [5,3,1]\n",
    "    expected_weights = [np.array([[ 0.2027827 , -0.05644616,  0.26441774,  0.62177434, -0.09559271,-0.09558601],\n",
    "                               [ 0.64471093,  0.31330392, -0.19166212,  0.22149921, -0.18918948,-0.19013338],\n",
    "                               [ 0.09878068, -0.78109339, -0.70419476, -0.22955292, -0.41348657,0.12829094]]),\n",
    "                        np.array([[-0.45401204, -0.70615185,  0.73282438, -0.11288815]])]\n",
    "    # when\n",
    "    weights = fwd.vector_to_weights(vector,network_structure)\n",
    "    # then\n",
    "    for layer_weight,expected_layer_weight in zip(weights,expected_weights):\n",
    "        np.testing.assert_allclose(layer_weight, expected_layer_weight)\n",
    "\n",
    "def test_weights_to_vector_returns_correct_value():\n",
    "    # given\n",
    "    weights = [np.array([[ 0.2027827 , -0.05644616,  0.26441774,  0.62177434, -0.09559271,-0.09558601],\n",
    "                               [ 0.64471093,  0.31330392, -0.19166212,  0.22149921, -0.18918948,-0.19013338],\n",
    "                               [ 0.09878068, -0.78109339, -0.70419476, -0.22955292, -0.41348657,0.12829094]]),\n",
    "                        np.array([[-0.45401204, -0.70615185,  0.73282438, -0.11288815]])]\n",
    "    expected_vector = np.array([0.2027827,-0.05644616,0.26441774,0.62177434,-0.09559271,-0.09558601,\n",
    "              0.64471093,  0.31330392, -0.19166212,  0.22149921, -0.18918948,-0.19013338,\n",
    "              0.09878068, -0.78109339, -0.70419476, -0.22955292, -0.41348657,0.12829094,\n",
    "              -0.45401204, -0.70615185,  0.73282438, -0.11288815])\n",
    "    expected_structure = [5,3,1]\n",
    "    # when\n",
    "    vector, network_structure = fwd.weights_to_vector(weights)\n",
    "    \n",
    "    np.testing.assert_allclose(vector, expected_vector)\n",
    "    np.testing.assert_allclose(network_structure, expected_structure)\n",
    "\n",
    "ipytest.run(\"-qq\")"
   ]
  },
  {
   "cell_type": "markdown",
   "id": "9b255d05",
   "metadata": {},
   "source": [
    "## Multiple inputs "
   ]
  },
  {
   "cell_type": "code",
   "execution_count": 18,
   "id": "5b994a24",
   "metadata": {},
   "outputs": [
    {
     "name": "stdout",
     "output_type": "stream",
     "text": [
      "[[ 6.9 ]\n",
      " [39.  ]\n",
      " [ 7.52]]\n",
      "[6.9]\n",
      "[39.]\n",
      "[7.52]\n"
     ]
    },
    {
     "data": {
      "text/plain": [
       "array([[0.99899323, 1.        , 0.99945816]])"
      ]
     },
     "execution_count": 18,
     "metadata": {},
     "output_type": "execute_result"
    }
   ],
   "source": [
    "inputs = np.array([[1,2,5,4]])\n",
    "weights = [\n",
    "        np.array(\n",
    "            [\n",
    "                [1,0.2,0.5,1,-1],\n",
    "                [2,1,3,5,0],\n",
    "                [0.2,0.1,0.6,0.78,1]\n",
    "            ]\n",
    "        )\n",
    "    ]\n",
    "activation = sigmoid\n",
    "fwd.forward_propagation(inputs,weights,activation)"
   ]
  },
  {
   "cell_type": "code",
   "execution_count": null,
   "id": "5c54b102",
   "metadata": {},
   "outputs": [],
   "source": [
    "inputs = np.array([[1,0.2,0.15,0.024]])\n",
    "weights = [\n",
    "        np.array(\n",
    "            [\n",
    "                [1,0.2,0.5,1,-1],\n",
    "                [2,1,3,5,0],\n",
    "                [0.2,0.1,0.6,0.78,1]\n",
    "            ]\n",
    "        )\n",
    "    ]\n",
    "activation = sigmoid\n",
    "fwd.forward_propagation(inputs,weights,activation)"
   ]
  },
  {
   "cell_type": "code",
   "execution_count": 28,
   "id": "d9fc379e",
   "metadata": {},
   "outputs": [
    {
     "name": "stdout",
     "output_type": "stream",
     "text": [
      "[[ 6.9      0.139  ]\n",
      " [39.       2.77   ]\n",
      " [ 7.52     1.32872]]\n",
      "[6.9   0.139]\n",
      "[39.    2.77]\n",
      "[7.52    1.32872]\n"
     ]
    },
    {
     "data": {
      "text/plain": [
       "array([[0.99899323, 1.        , 0.99945816],\n",
       "       [0.53469416, 0.94103299, 0.79062883]])"
      ]
     },
     "execution_count": 28,
     "metadata": {},
     "output_type": "execute_result"
    }
   ],
   "source": [
    "inputs = np.array([[1,2,5,4],[1,0.2,0.15,0.024]])\n",
    "weights = [\n",
    "        np.array(\n",
    "            [\n",
    "                [1,0.2,0.5,1,-1],\n",
    "                [2,1,3,5,0],\n",
    "                [0.2,0.1,0.6,0.78,1]\n",
    "            ]\n",
    "        )\n",
    "    ]\n",
    "activation = sigmoid\n",
    "fwd.forward_propagation(inputs,weights,activation)"
   ]
  },
  {
   "cell_type": "code",
   "execution_count": null,
   "id": "ecb06e9b",
   "metadata": {},
   "outputs": [],
   "source": [
    "inputs = np.array([[1,2,5,4],[1,0.2,0.15,0.024]])\n",
    "weights = [\n",
    "        np.array(\n",
    "            [\n",
    "                [1,0.2,0.5,1,-1],\n",
    "                [2,1,3,5,0],\n",
    "                [0.2,0.1,0.6,0.78,1]\n",
    "            ]\n",
    "        ),\n",
    "    np.array(\n",
    "            [\n",
    "                [1,0.2,0.5,1],\n",
    "                [2,1,3,5]\n",
    "            ]\n",
    "        )\n",
    "    ]\n",
    "activation = sigmoid\n",
    "fwd.forward_propagation(inputs,weights,activation)"
   ]
  },
  {
   "cell_type": "markdown",
   "id": "679d29da",
   "metadata": {},
   "source": [
    "### Creating a data set \n",
    "Create a data set of points sampled randomly from a function."
   ]
  },
  {
   "cell_type": "code",
   "execution_count": 3,
   "id": "8703c282",
   "metadata": {},
   "outputs": [],
   "source": [
    "\n",
    "fun = test_functions.sphere\n",
    "dim = 2\n",
    "LB = [-5] * dim\n",
    "UB = [5] * dim\n",
    "ndata = 10\n",
    "\n",
    "entry_data = np.random.uniform(low=LB,high=UB,size=(ndata,dim))\n",
    "target = np.apply_along_axis(fun, 1, entry_data)\n",
    "\n",
    "simulated_data = {\n",
    "    \"data\": entry_data,\n",
    "    \"target\": target\n",
    "}\n",
    "\n",
    "weights = fwd.create_weights([2,1])"
   ]
  },
  {
   "cell_type": "code",
   "execution_count": 9,
   "id": "2d0b0211",
   "metadata": {},
   "outputs": [
    {
     "data": {
      "text/plain": [
       "[array([[ 0.28677805, -0.07982693,  0.37394315]])]"
      ]
     },
     "execution_count": 9,
     "metadata": {},
     "output_type": "execute_result"
    }
   ],
   "source": [
    "weights"
   ]
  },
  {
   "cell_type": "code",
   "execution_count": 8,
   "id": "c95dcc41",
   "metadata": {},
   "outputs": [
    {
     "data": {
      "text/plain": [
       "array([[-3.4398136 , -3.4400548 ],\n",
       "       [-4.41916388,  3.66176146],\n",
       "       [ 1.01115012,  2.08072578],\n",
       "       [-4.79415506,  4.69909852],\n",
       "       [ 3.32442641, -2.87660889],\n",
       "       [-3.18175033, -3.1659549 ],\n",
       "       [-1.95757757,  0.24756432],\n",
       "       [-0.68054981, -2.0877086 ],\n",
       "       [ 1.11852895, -3.60506139],\n",
       "       [-2.07855351, -1.33638157]])"
      ]
     },
     "execution_count": 8,
     "metadata": {},
     "output_type": "execute_result"
    }
   ],
   "source": [
    "entry_data"
   ]
  },
  {
   "cell_type": "code",
   "execution_count": 31,
   "id": "fa22e0e3",
   "metadata": {},
   "outputs": [
    {
     "data": {
      "text/plain": [
       "array([[1.   , 2.   , 5.   , 4.   ],\n",
       "       [1.   , 0.2  , 0.15 , 0.024]])"
      ]
     },
     "execution_count": 31,
     "metadata": {},
     "output_type": "execute_result"
    }
   ],
   "source": [
    "inputs"
   ]
  },
  {
   "cell_type": "code",
   "execution_count": 30,
   "id": "39feeca5",
   "metadata": {},
   "outputs": [
    {
     "data": {
      "text/plain": [
       "[array([[ 0.22213732, -0.06183368,  0.28965512,  0.68111966, -0.10471657],\n",
       "        [-0.10470923,  0.70624544,  0.34320724, -0.20995533,  0.24264023]])]"
      ]
     },
     "execution_count": 30,
     "metadata": {},
     "output_type": "execute_result"
    }
   ],
   "source": [
    "weights"
   ]
  },
  {
   "cell_type": "code",
   "execution_count": 26,
   "id": "597dae58",
   "metadata": {},
   "outputs": [
    {
     "data": {
      "text/plain": [
       "[array([[ 1.  ,  0.2 ,  0.5 ,  1.  , -1.  ],\n",
       "        [ 2.  ,  1.  ,  3.  ,  5.  ,  0.  ],\n",
       "        [ 0.2 ,  0.1 ,  0.6 ,  0.78,  1.  ]])]"
      ]
     },
     "execution_count": 26,
     "metadata": {},
     "output_type": "execute_result"
    }
   ],
   "source": [
    "[\n",
    "        np.array(\n",
    "            [\n",
    "                [1,0.2,0.5,1,-1],\n",
    "                [2,1,3,5,0],\n",
    "                [0.2,0.1,0.6,0.78,1]\n",
    "            ]\n",
    "        )\n",
    "    ]"
   ]
  },
  {
   "cell_type": "code",
   "execution_count": 75,
   "id": "03092a29",
   "metadata": {},
   "outputs": [],
   "source": [
    "#inputs = np.array([[1,0.2,0.15,0.024]])\n",
    "inputs = np.array([[1,1,1,1],[0.5,0.5,0.5,0.5],[1,1,1,1]])"
   ]
  },
  {
   "cell_type": "code",
   "execution_count": 93,
   "id": "0f64a81e",
   "metadata": {},
   "outputs": [
    {
     "name": "stdout",
     "output_type": "stream",
     "text": [
      "(2, 5)\n",
      "(3, 5)\n",
      "***\n",
      "[[1.02636185 0.46082264 1.02636185]\n",
      " [0.97742836 0.61003429 0.97742836]]\n",
      "(2, 3)\n",
      "[1.02636185 0.97742836]\n",
      "[0.46082264 0.61003429]\n",
      "[1.02636185 0.97742836]\n",
      "[[1.02636185 0.46082264 1.02636185]\n",
      " [0.97742836 0.61003429 0.97742836]]\n"
     ]
    },
    {
     "data": {
      "text/plain": [
       "array([[1.02636185, 0.97742836],\n",
       "       [0.46082264, 0.61003429],\n",
       "       [1.02636185, 0.97742836]])"
      ]
     },
     "execution_count": 93,
     "metadata": {},
     "output_type": "execute_result"
    }
   ],
   "source": [
    "weights = fwd.create_weights([4,2])\n",
    "fwd.forward_propagation(inputs,weights,relu)"
   ]
  },
  {
   "cell_type": "code",
   "execution_count": 66,
   "id": "88b584fd",
   "metadata": {},
   "outputs": [
    {
     "data": {
      "text/plain": [
       "[array([[ 0.22213732, -0.06183368,  0.28965512,  0.68111966, -0.10471657]])]"
      ]
     },
     "execution_count": 66,
     "metadata": {},
     "output_type": "execute_result"
    }
   ],
   "source": [
    "d = np.array([2, 0, 3, -4, -2, 7, 9])\n",
    "np."
   ]
  },
  {
   "cell_type": "code",
   "execution_count": 67,
   "id": "80fd7191",
   "metadata": {},
   "outputs": [
    {
     "data": {
      "text/plain": [
       "array([1.02636185])"
      ]
     },
     "execution_count": 67,
     "metadata": {},
     "output_type": "execute_result"
    }
   ],
   "source": [
    "sum(weights[0].T)"
   ]
  }
 ],
 "metadata": {
  "kernelspec": {
   "display_name": "Python 3 (ipykernel)",
   "language": "python",
   "name": "python3"
  },
  "language_info": {
   "codemirror_mode": {
    "name": "ipython",
    "version": 3
   },
   "file_extension": ".py",
   "mimetype": "text/x-python",
   "name": "python",
   "nbconvert_exporter": "python",
   "pygments_lexer": "ipython3",
   "version": "3.9.13"
  }
 },
 "nbformat": 4,
 "nbformat_minor": 5
}
