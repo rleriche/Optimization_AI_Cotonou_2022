{
 "cells": [
  {
   "cell_type": "code",
   "execution_count": null,
   "id": "8ab22ff8",
   "metadata": {},
   "outputs": [],
   "source": [
    "import numpy as np\n",
    "from typing import Union, Callable\n",
    "import pytest\n",
    "import ipytest\n",
    "from copy import deepcopy\n",
    "np.random.seed(42)"
   ]
  },
  {
   "cell_type": "markdown",
   "id": "92350081",
   "metadata": {},
   "source": [
    "## Fonctions d'activation"
   ]
  },
  {
   "cell_type": "code",
   "execution_count": null,
   "id": "e12c8235",
   "metadata": {},
   "outputs": [],
   "source": [
    "def sigmoid(x: np.ndarray) -> np.ndarray:\n",
    "    res = 1 / (1 + np.exp(- x))\n",
    "    return res\n",
    "\n",
    "def relu(x: np.ndarray) -> np.ndarray:\n",
    "    x[x<0] = 0\n",
    "    return x\n",
    "\n",
    "def tanh(x: np.ndarray) -> np.ndarray:\n",
    "    res = (np.exp(x) - np.exp(-x)) / (np.exp(x) + np.exp(-x))\n",
    "    return res"
   ]
  },
  {
   "cell_type": "markdown",
   "id": "63a289ce",
   "metadata": {},
   "source": [
    "## Propagation en avant"
   ]
  },
  {
   "cell_type": "code",
   "execution_count": null,
   "id": "079f0f84",
   "metadata": {},
   "outputs": [],
   "source": [
    "def forward_propagation(inputs: np.ndarray,\n",
    "               weights: list[np.ndarray],\n",
    "               activation_functions: Union[Callable,list[Callable],list[list[Callable]]]) -> np.ndarray:\n",
    "    \"\"\"\n",
    "    Returns the output of the network.\n",
    "\n",
    "            Parameters:\n",
    "                    inputs: is an array of shape n,p \n",
    "                    (with p being the number of input features and n the number of observations)\n",
    "                    weights: list of matrices. \n",
    "                             Each matrix represents a layer. \n",
    "                             The number of rows is the number of nodes. \n",
    "                             The number of columns is the number inputs of the layer (with the bias)\n",
    "                    activation_functions: the user can provide either\n",
    "                        * one activation function for the whole network (one callable)\n",
    "                        * one activation function for each layer (list of callable)\n",
    "                        * one activation function per nodes (list of list of callable)\n",
    "\n",
    "    \"\"\"\n",
    "    \n",
    "    # number of nodes per layers\n",
    "    network_structure = []\n",
    "    for layer_weights in weights:\n",
    "        network_structure.append(layer_weights.shape[0])\n",
    "\n",
    "    # all activation functions\n",
    "    activation_functions_parsed = parse_activation_function(activation_functions, network_structure)\n",
    "    \n",
    "    bias = np.repeat(np.array([[1]]), inputs.shape[0], axis=0)\n",
    "\n",
    "    layer_input = np.append(inputs,bias,axis = 1).T\n",
    "\n",
    "    for func,layer_weights in zip(activation_functions_parsed,weights):\n",
    "\n",
    "        layer_combinaison = layer_weights.dot(layer_input)\n",
    "        layer_output = apply_activation_functions(func,layer_combinaison)\n",
    "        layer_input = np.append(layer_output,bias,axis = 1).T\n",
    "\n",
    "    return layer_output\n",
    "\n",
    "def parse_activation_function(activation_functions, network_structure) -> list[list[Callable]]:\n",
    "    activation_functions_parsed = deepcopy(activation_functions)\n",
    "    if isinstance(activation_functions, Callable):\n",
    "        activation_functions_parsed = []\n",
    "        for number_nodes in network_structure:\n",
    "            layer_funcs = [activation_functions for n in range(0,number_nodes)]\n",
    "            activation_functions_parsed.append(layer_funcs)\n",
    "    \n",
    "    if isinstance(activation_functions,list):\n",
    "        if isinstance(activation_functions[0], Callable):\n",
    "            activation_functions_parsed = []\n",
    "            for func, number_nodes in zip(activation_functions, network_structure):\n",
    "                activation_functions_parsed.append([func for n in range(0,number_nodes)])\n",
    "    return activation_functions_parsed\n",
    "\n",
    "def apply_activation_functions(functions: list[object], values: np.ndarray) -> np.ndarray:\n",
    "    all_activated_values = np.zeros(values.shape)\n",
    "    for i in range(0,values.shape[0]):\n",
    "        row_values = values[i,:]\n",
    "        all_activated_values[i,:] = [node_func(value) for node_func,value in zip(functions,row_values)]\n",
    "    return np.array(all_activated_values).T"
   ]
  },
  {
   "cell_type": "code",
   "execution_count": null,
   "id": "a83b61ab",
   "metadata": {},
   "outputs": [],
   "source": [
    "def test_forward_nn_returns_correct_value():\n",
    "    #given\n",
    "    inputs = np.array([[1,2,5,4]])\n",
    "    weights = [\n",
    "        np.array(\n",
    "            [\n",
    "                [1,0.2,0.5,1,-1],\n",
    "                [2,1,3,5,0],\n",
    "                [0.2,0.1,0.6,0.78,1]\n",
    "            ]\n",
    "        )\n",
    "    ]\n",
    "    activation = sigmoid\n",
    "    expected_output = np.array([[0.99899323, 1, 0.99945816]])\n",
    "    #when\n",
    "    output = forward_propagation(inputs,weights,activation)\n",
    "    #then\n",
    "    np.testing.assert_allclose(output, expected_output)\n",
    "    \n",
    "    \n",
    "@pytest.mark.parametrize('activation', [\n",
    "    (sigmoid),\n",
    "    ([sigmoid]),\n",
    "    ([[sigmoid,sigmoid,sigmoid]])\n",
    "])\n",
    "def test_forward_nn_returns_correct_value(activation):\n",
    "    #given\n",
    "    inputs = np.array([[1,2,5,4]])\n",
    "    weights = [\n",
    "        np.array(\n",
    "            [\n",
    "                [1,0.2,0.5,1,-1],\n",
    "                [2,1,3,5,0],\n",
    "                [0.2,0.1,0.6,0.78,1]\n",
    "            ]\n",
    "        )\n",
    "    ]\n",
    "\n",
    "    expected_output = np.array([[0.99899323, 1, 0.99945816]])\n",
    "    #when\n",
    "    output = forward_propagation(inputs,weights,activation)\n",
    "    #then\n",
    "    np.testing.assert_allclose(output, expected_output)\n",
    "\n",
    "ipytest.run(\"-qq\")"
   ]
  },
  {
   "cell_type": "markdown",
   "id": "e17fe41e",
   "metadata": {},
   "source": [
    "## Random weights"
   ]
  },
  {
   "cell_type": "code",
   "execution_count": null,
   "id": "49424a3b",
   "metadata": {},
   "outputs": [],
   "source": [
    "def create_layer_weights(inputs_size: int,outputs_size: int)-> np.ndarray:\n",
    "    avg = 0\n",
    "    std = np.sqrt(1/inputs_size)\n",
    "    layer_weights = np.random.normal(avg,std,(outputs_size,inputs_size))\n",
    "    \n",
    "    return layer_weights\n",
    "\n",
    "def create_weights(network_structure: list[int]) -> list[np.ndarray]:\n",
    "    np.random.seed(42)\n",
    "    weights = []\n",
    "    for layer in range(0,len(network_structure)-1):\n",
    "        weights.append(create_layer_weights(\n",
    "            inputs_size = network_structure[layer] + 1,\n",
    "            outputs_size = network_structure[layer + 1]\n",
    "        ))\n",
    "    return weights"
   ]
  },
  {
   "cell_type": "markdown",
   "id": "657f6bb1",
   "metadata": {},
   "source": [
    "## vector to weights and back"
   ]
  },
  {
   "cell_type": "code",
   "execution_count": null,
   "id": "acae3c66",
   "metadata": {},
   "outputs": [],
   "source": [
    "def vector_to_weights(vector: np.ndarray,network_structure: list[int]) -> list[np.ndarray]:\n",
    "    weights = []\n",
    "    for layer in range(0,len(network_structure)-1):\n",
    "        input_size = (network_structure[layer] + 1)\n",
    "        output_size = network_structure[layer + 1]\n",
    "        selected_parameters = np.array(vector[:(input_size * output_size)])\n",
    "        weights.append(selected_parameters.reshape((output_size,input_size)))\n",
    "        vector = vector[(input_size * output_size):]\n",
    "    \n",
    "    return weights\n",
    "\n",
    "def weights_to_vector(weights: list[np.ndarray]):\n",
    "    vector = []\n",
    "    network_structure = []\n",
    "    for layer_weight in weights:\n",
    "        vector = vector + layer_weight.reshape((1,-1))[0].tolist()\n",
    "        if len(network_structure) == 0:\n",
    "            network_structure = network_structure + [layer_weight.shape[1] - 1] \n",
    "        network_structure = network_structure + [layer_weight.shape[0]] \n",
    "        \n",
    "    return np.array(vector), network_structure"
   ]
  },
  {
   "cell_type": "code",
   "execution_count": null,
   "id": "ef7f1237",
   "metadata": {},
   "outputs": [],
   "source": [
    "def test_vector_to_weights_returns_correct_value():\n",
    "    # given\n",
    "    vector = [0.2027827,-0.05644616,0.26441774,0.62177434,-0.09559271,-0.09558601,\n",
    "              0.64471093,  0.31330392, -0.19166212,  0.22149921, -0.18918948,-0.19013338,\n",
    "              0.09878068, -0.78109339, -0.70419476, -0.22955292, -0.41348657,0.12829094,\n",
    "              -0.45401204, -0.70615185,  0.73282438, -0.11288815]\n",
    "    network_structure = [5,3,1]\n",
    "    expected_weights = [np.array([[ 0.2027827 , -0.05644616,  0.26441774,  0.62177434, -0.09559271,-0.09558601],\n",
    "                               [ 0.64471093,  0.31330392, -0.19166212,  0.22149921, -0.18918948,-0.19013338],\n",
    "                               [ 0.09878068, -0.78109339, -0.70419476, -0.22955292, -0.41348657,0.12829094]]),\n",
    "                        np.array([[-0.45401204, -0.70615185,  0.73282438, -0.11288815]])]\n",
    "    # when\n",
    "    weights = vector_to_weights(vector,network_structure)\n",
    "    # then\n",
    "    for layer_weight,expected_layer_weight in zip(weights,expected_weights):\n",
    "        np.testing.assert_allclose(layer_weight, expected_layer_weight)\n",
    "\n",
    "def test_weights_to_vector_returns_correct_value():\n",
    "    # given\n",
    "    weights = [np.array([[ 0.2027827 , -0.05644616,  0.26441774,  0.62177434, -0.09559271,-0.09558601],\n",
    "                               [ 0.64471093,  0.31330392, -0.19166212,  0.22149921, -0.18918948,-0.19013338],\n",
    "                               [ 0.09878068, -0.78109339, -0.70419476, -0.22955292, -0.41348657,0.12829094]]),\n",
    "                        np.array([[-0.45401204, -0.70615185,  0.73282438, -0.11288815]])]\n",
    "    expected_vector = np.array([0.2027827,-0.05644616,0.26441774,0.62177434,-0.09559271,-0.09558601,\n",
    "              0.64471093,  0.31330392, -0.19166212,  0.22149921, -0.18918948,-0.19013338,\n",
    "              0.09878068, -0.78109339, -0.70419476, -0.22955292, -0.41348657,0.12829094,\n",
    "              -0.45401204, -0.70615185,  0.73282438, -0.11288815])\n",
    "    expected_structure = [5,3,1]\n",
    "    # when\n",
    "    vector, network_structure = weights_to_vector(weights)\n",
    "    \n",
    "    np.testing.assert_allclose(vector, expected_vector)\n",
    "    np.testing.assert_allclose(network_structure, expected_structure)\n",
    "\n",
    "ipytest.run(\"-qq\")"
   ]
  },
  {
   "cell_type": "markdown",
   "id": "9b255d05",
   "metadata": {},
   "source": [
    "## Multiple inputs "
   ]
  },
  {
   "cell_type": "code",
   "execution_count": null,
   "id": "5b994a24",
   "metadata": {},
   "outputs": [],
   "source": [
    "inputs = np.array([[1,2,5,4]])\n",
    "weights = [\n",
    "        np.array(\n",
    "            [\n",
    "                [1,0.2,0.5,1,-1],\n",
    "                [2,1,3,5,0],\n",
    "                [0.2,0.1,0.6,0.78,1]\n",
    "            ]\n",
    "        )\n",
    "    ]\n",
    "activation = sigmoid\n",
    "forward_propagation(inputs,weights,activation)"
   ]
  },
  {
   "cell_type": "code",
   "execution_count": null,
   "id": "5c54b102",
   "metadata": {},
   "outputs": [],
   "source": [
    "inputs = np.array([[1,0.2,0.15,0.024]])\n",
    "weights = [\n",
    "        np.array(\n",
    "            [\n",
    "                [1,0.2,0.5,1,-1],\n",
    "                [2,1,3,5,0],\n",
    "                [0.2,0.1,0.6,0.78,1]\n",
    "            ]\n",
    "        )\n",
    "    ]\n",
    "activation = sigmoid\n",
    "forward_propagation(inputs,weights,activation)"
   ]
  },
  {
   "cell_type": "code",
   "execution_count": null,
   "id": "d9fc379e",
   "metadata": {},
   "outputs": [],
   "source": [
    "inputs = np.array([[1,2,5,4],[1,0.2,0.15,0.024]])\n",
    "weights = [\n",
    "        np.array(\n",
    "            [\n",
    "                [1,0.2,0.5,1,-1],\n",
    "                [2,1,3,5,0],\n",
    "                [0.2,0.1,0.6,0.78,1]\n",
    "            ]\n",
    "        )\n",
    "    ]\n",
    "activation = sigmoid\n",
    "forward_propagation(inputs,weights,activation)"
   ]
  },
  {
   "cell_type": "code",
   "execution_count": null,
   "id": "ecb06e9b",
   "metadata": {},
   "outputs": [],
   "source": [
    "inputs = np.array([[1,2,5,4],[1,0.2,0.15,0.024]])\n",
    "weights = [\n",
    "        np.array(\n",
    "            [\n",
    "                [1,0.2,0.5,1,-1],\n",
    "                [2,1,3,5,0],\n",
    "                [0.2,0.1,0.6,0.78,1]\n",
    "            ]\n",
    "        ),\n",
    "    np.array(\n",
    "            [\n",
    "                [1,0.2,0.5,1],\n",
    "                [2,1,3,5]\n",
    "            ]\n",
    "        )\n",
    "    ]\n",
    "activation = sigmoid\n",
    "forward_propagation(inputs,weights,activation)"
   ]
  },
  {
   "cell_type": "markdown",
   "id": "679d29da",
   "metadata": {},
   "source": [
    "### Creating a data set \n",
    "Create a data set of points sampled randomly from a function."
   ]
  },
  {
   "cell_type": "code",
   "execution_count": 4,
   "id": "8703c282",
   "metadata": {},
   "outputs": [
    {
     "data": {
      "text/plain": [
       "array([[ 4.78129114, -1.5960368 ],\n",
       "       [-4.05969221, -0.70229707],\n",
       "       [-1.69742218,  2.27013424],\n",
       "       [-4.30673085, -4.95803344],\n",
       "       [-0.71706254,  3.43746721],\n",
       "       [ 3.96397923,  4.41931501],\n",
       "       [-2.28613263, -1.32562427],\n",
       "       [ 2.34265092,  2.45378602],\n",
       "       [-1.80707864,  2.27599077],\n",
       "       [ 2.6214833 ,  3.41603093]])"
      ]
     },
     "execution_count": 4,
     "metadata": {},
     "output_type": "execute_result"
    }
   ],
   "source": [
    "import test_functions\n",
    "import numpy as np\n",
    "fun = test_functions.sphere\n",
    "dim = 2\n",
    "LB = [-5] * dim\n",
    "UB = [5] * dim\n",
    "ndata = 10\n",
    "\n",
    "entry_data = np.random.uniform(low=LB,high=UB,size=(ndata,dim))\n",
    "entry_data\n",
    "ydata = fun(xdata)"
   ]
  }
 ],
 "metadata": {
  "kernelspec": {
   "display_name": "Python 3 (ipykernel)",
   "language": "python",
   "name": "python3"
  },
  "language_info": {
   "codemirror_mode": {
    "name": "ipython",
    "version": 3
   },
   "file_extension": ".py",
   "mimetype": "text/x-python",
   "name": "python",
   "nbconvert_exporter": "python",
   "pygments_lexer": "ipython3",
   "version": "3.9.7"
  }
 },
 "nbformat": 4,
 "nbformat_minor": 5
}
